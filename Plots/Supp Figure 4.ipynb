{
 "cells": [
  {
   "cell_type": "code",
   "execution_count": 118,
   "metadata": {},
   "outputs": [],
   "source": [
    "import numpy as np\n",
    "import matplotlib.pyplot as plt\n",
    "from matplotlib import colors\n",
    "import pandas as pd\n",
    "from matplotlib_venn import venn2, venn3\n",
    "\n",
    "# Load in data \n",
    "qPCR = pd.read_csv('qPCR_Data.csv')\n",
    "WD3 = pd.read_csv('Whiskerd3_Zscore.csv')\n",
    "\n",
    "trans_gene_list = ['ActB','Clcn1','Gadd45a','Kcnj2']\n",
    "\n",
    "#Select subset of data frame for further analysis\n",
    "qPCR = pd.concat([qPCR.iloc[:,2], qPCR.iloc[:,4], qPCR.iloc[:,5], qPCR.iloc[:,6], qPCR.iloc[:,11]], axis = 1, sort = False)\n",
    "\n",
    "#Trim WD3 and filter\n",
    "WD3 = WD3.iloc[:,0:2]\n",
    "WD3 = WD3.loc[WD3['Gene name'].isin(trans_gene_list)].reset_index(drop=True)\n",
    "\n",
    "#Define zscore inline function\n",
    "zscore = lambda x: (x - x.mean()) / x.std()\n",
    "\n",
    "#Zscore normalized delta CT, grouping by target and day and add onto dataframe\n",
    "qPCR['Zscore'] = qPCR.groupby(['Target.Name','Day'])['delCt'].transform(zscore)\n",
    "#Isolate Day 3 and right side zscores\n",
    "qPCR = qPCR.loc[(qPCR['Day'] == 3) & (qPCR['Side'] == 'R')].reset_index(drop=True)\n",
    "#Average isolated zscores\n",
    "qMean = qPCR.groupby('Target.Name')['Zscore'].mean()\n",
    "qMean = qMean.iloc[1:4].reset_index(drop=True)\n",
    "\n",
    "#qMean = pd.merge(WD3, qMean, left_on = \"Gene name\", right_on = \"Target.Name\", how = \"inner\")\n",
    "qMean = pd.concat([WD3,qMean], axis = 1).reset_index(drop=True)\n",
    "qMean = qMean.rename(columns = {'WD3':'RNA-seq zscore', 'Gene name':'Transcript gene name', 'Zscore':'qPCR zscore'})\n",
    "qMean = qMean.reindex(columns = ['RNA-seq zscore','qPCR zscore','Transcript gene name'])"
   ]
  },
  {
   "cell_type": "code",
   "execution_count": 130,
   "metadata": {},
   "outputs": [
    {
     "data": {
      "image/png": "[encoded data removed]",
      "text/plain": [
       "<Figure size 288x360 with 2 Axes>"
      ]
     },
     "metadata": {},
     "output_type": "display_data"
    }
   ],
   "source": [
    "#Isolate data into numpy matrix\n",
    "Z = qMean.iloc[:,0:2].values\n",
    "\n",
    "#Create y-labels\n",
    "ylabels = qMean[\"Transcript gene name\"].values\n",
    "\n",
    "#Plot Data\n",
    "# Declare parameters\n",
    "color = ['#0d02e5','#3ccdfc','#ffffff','#fcdc3c','#e5020d']\n",
    "fig, ax = plt.subplots()\n",
    "plt.rcParams['font.family'] = \"Arial\"\n",
    "plt.rcParams.update({'font.size': 14})\n",
    "plt.rcParams['savefig.bbox'] = 'tight'\n",
    "\n",
    "# Create the colormap\n",
    "cm = colors.LinearSegmentedColormap.from_list('my_list', color, N=256)\n",
    "\n",
    "#Define bounds to colormap\n",
    "bounds = np.arange(-1.1,1.1,0.001)\n",
    "norm = colors.BoundaryNorm(bounds,cm.N)\n",
    "\n",
    "# Apply colormap to data\n",
    "im = ax.imshow(Z, origin='upper', cmap=cm, interpolation = \"nearest\", norm=norm, aspect='equal')\n",
    "cb = fig.colorbar(im, ax=ax, cmap=cm, norm=norm, boundaries=bounds, orientation=\"horizontal\")\n",
    "cb.set_ticks([-1,-0.5,0,0.5,1],update_ticks=True)\n",
    "ax.set_yticks(np.arange(0, len(Z), 1))\n",
    "ax.set_xticks([0,1])\n",
    "ax.set_xticklabels((\"RNA-seq\",\"qPCR\"))\n",
    "ax.spines['top'].set_visible(False)\n",
    "ax.spines['bottom'].set_visible(False)\n",
    "ax.spines['left'].set_visible(False)\n",
    "ax.spines['right'].set_visible(False)\n",
    "ax.set_yticklabels(ylabels)\n",
    "ax.set_title('Zscore of injured side')\n",
    "fig_name = 'RNA-seq validation' + \".svg\"\n",
    "\n",
    "fig.set_size_inches(4,5)\n",
    "\n",
    "plt.savefig(fig_name)\n"
   ]
  },
  {
   "cell_type": "code",
   "execution_count": 24,
   "metadata": {},
   "outputs": [
    {
     "data": {
      "image/png": "[encoded data removed]",
      "text/plain": [
       "<Figure size 216x216 with 1 Axes>"
      ]
     },
     "metadata": {},
     "output_type": "display_data"
    }
   ],
   "source": [
    "import matplotlib.pyplot as plt\n",
    "import numpy as np\n",
    "import pandas as pd\n",
    "from matplotlib.ticker import AutoMinorLocator\n",
    "minor_locator = AutoMinorLocator(2)\n",
    "minor_locatorx = AutoMinorLocator(2) #Need to declare a unique MinorLocator object for each Y-axis\n",
    "\n",
    "\n",
    "plt.rcParams['font.family'] = \"Arial\"\n",
    "plt.rcParams.update({'font.size': 10})\n",
    "plt.rcParams['savefig.bbox'] = 'tight'\n",
    "\n",
    "\n",
    "Data = pd.read_csv('COP4_qPCR.csv')\n",
    "\n",
    "Average = Data.mean()\n",
    "Error = Data.sem()\n",
    "\n",
    "ind = 1  # the x locations for the groups\n",
    "width = 0.3       # the width of the bars\n",
    "ind = ind*1.5\n",
    "fig, ax = plt.subplots()\n",
    "color_vector = ['darkcyan','paleturquoise','fuchsia','violet']\n",
    "rects = [0]*4 #Pre-alocate list\n",
    "for x in range(0, 4):\n",
    "    rects[x] = ax.bar(ind + (width * x), Average[x], width, color=color_vector[x], yerr=Error[x], capsize=5)\n",
    "\n",
    "x1 = np.array([(ind + (width * 0)), (ind + (width * 1))])\n",
    "x2 = np.array([(ind + (width * 2)), (ind + (width * 3))])\n",
    "data = Data.values\n",
    "\n",
    "#for y in range(0,3):\n",
    "#    ax.plot(x1,data[y,0:2],'k.-')\n",
    "    \n",
    "#for y in range(0,2):\n",
    "#    ax.plot(x2,data[y,2:4],'k.-')\n",
    "\n",
    "\n",
    "# add some text for labels, title and axes ticks\n",
    "ax.set_ylabel('Adjusted relative quantity')\n",
    "ax.set_yticks([0,1])\n",
    "ax.set_xticks([])\n",
    "ax.set_ylim(0,1.5)\n",
    "ax.yaxis.set_minor_locator(minor_locator)\n",
    "plt.tick_params(which='major', length=5)\n",
    "plt.tick_params(which='minor', length=3)\n",
    "ax.spines['top'].set_visible(False)\n",
    "ax.spines['right'].set_visible(False)\n",
    "\n",
    "fig = plt.gcf()\n",
    "fig.set_size_inches(3,3)\n",
    "ax.legend((rects[0], rects[1], rects[2], rects[3]), ('Emx1-ChR2, Day +3 sham', 'Emx1-ChR2, Day +3 lesion','Emx1-ChR2, Day +7 sham','Emx1-ChR2, Day +7 lesion'),fontsize = 9, loc = 'upper left')\n",
    "plt.savefig('COP4.svg')\n",
    "plt.show()\n",
    "\n",
    "\n"
   ]
  },
  {
   "cell_type": "code",
   "execution_count": 15,
   "metadata": {},
   "outputs": [
    {
     "name": "stdout",
     "output_type": "stream",
     "text": [
      "[[1.00368016 0.53094681 0.44864503 0.56507193]\n",
      " [1.05787889 0.95148879 0.63934426 0.34626966]\n",
      " [0.93844095 1.45433255        nan        nan]]\n"
     ]
    }
   ],
   "source": [
    "print(Data.values)"
   ]
  },
  {
   "cell_type": "code",
   "execution_count": null,
   "metadata": {},
   "outputs": [],
   "source": []
  }
 ],
 "metadata": {
  "kernelspec": {
   "display_name": "Python 3",
   "language": "python",
   "name": "python3"
  },
  "language_info": {
   "codemirror_mode": {
    "name": "ipython",
    "version": 3
   },
   "file_extension": ".py",
   "mimetype": "text/x-python",
   "name": "python",
   "nbconvert_exporter": "python",
   "pygments_lexer": "ipython3",
   "version": "3.6.5"
  }
 },
 "nbformat": 4,
 "nbformat_minor": 2
}
